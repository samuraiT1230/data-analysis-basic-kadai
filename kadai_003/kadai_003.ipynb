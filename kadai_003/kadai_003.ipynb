{
  "nbformat": 4,
  "nbformat_minor": 0,
  "metadata": {
    "colab": {
      "provenance": []
    },
    "kernelspec": {
      "name": "python3",
      "display_name": "Python 3"
    },
    "language_info": {
      "name": "python"
    }
  },
  "cells": [
    {
      "cell_type": "code",
      "execution_count": 10,
      "metadata": {
        "colab": {
          "base_uri": "https://localhost:8080/"
        },
        "id": "OhmjSmV0jD_S",
        "outputId": "d1483465-0ed5-45fc-a709-63354f431e2d"
      },
      "outputs": [
        {
          "output_type": "stream",
          "name": "stdout",
          "text": [
            "step4は:\n",
            " [[54 47 24]\n",
            " [19 14  7]]\n",
            "setp5は: 54\n"
          ]
        }
      ],
      "source": [
        "import numpy as np\n",
        "\n",
        "A = np.array([[4, 7, 2], [1, 2, 1]])\n",
        "B = np.array([[2, 2, 2], [4, 5, 2], [9, 2, 1]])\n",
        "result = np.dot(A, B)\n",
        "\n",
        "print(\"step4は:\\n\", result)\n",
        "\n",
        "max_value = np.max(result)\n",
        "print(\"setp5は:\", max_value)"
      ]
    }
  ]
}